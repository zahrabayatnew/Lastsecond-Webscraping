{
 "cells": [
  {
   "cell_type": "code",
   "execution_count": 116,
   "id": "43774840-9581-4f47-959e-72f32710735b",
   "metadata": {},
   "outputs": [],
   "source": [
    "from bs4 import BeautifulSoup\n",
    "import requests\n",
    "import pandas as pd"
   ]
  },
  {
   "cell_type": "code",
   "execution_count": 117,
   "id": "0a3a5789-d85a-48e4-89cc-358e74e3474a",
   "metadata": {},
   "outputs": [],
   "source": [
    "\n"
   ]
  },
  {
   "cell_type": "code",
   "execution_count": 118,
   "id": "616bf53c-387e-4013-9b85-79c3a0d8a681",
   "metadata": {},
   "outputs": [],
   "source": []
  },
  {
   "cell_type": "code",
   "execution_count": 119,
   "id": "0a4169ee-8e8b-42cd-9e7b-30e68476eae4",
   "metadata": {},
   "outputs": [],
   "source": []
  },
  {
   "cell_type": "code",
   "execution_count": 130,
   "id": "549aa67e-2636-492b-89cc-e0a1b65ecc0c",
   "metadata": {},
   "outputs": [
    {
     "name": "stdout",
     "output_type": "stream",
     "text": [
      "Scraping page number 1 is finished\n",
      "Scraping page number 2 is finished\n",
      "Scraping page number 3 is finished\n",
      "Scraping page number 4 is finished\n",
      "Scraping page number 5 is finished\n",
      "Scraping page number 6 is finished\n",
      "Scraping page number 7 is finished\n",
      "Scraping page number 8 is finished\n",
      "Scraping page number 9 is finished\n",
      "Scraping page number 10 is finished\n",
      "Scraping page number 11 is finished\n",
      "Scraping page number 12 is finished\n",
      "Sorry ! Wehave some missing values\n",
      "Scraping page number 13 is finished\n",
      "Sorry ! Wehave some missing values\n",
      "Scraping page number 14 is finished\n",
      "Scraping page number 15 is finished\n",
      "Scraping page number 16 is finished\n",
      "Scraping page number 17 is finished\n",
      "Scraping page number 18 is finished\n",
      "Scraping page number 19 is finished\n",
      "Scraping page number 20 is finished\n"
     ]
    }
   ],
   "source": [
    "destination_list = []\n",
    "length_list = []\n",
    "start_date_list = []\n",
    "minimum_price_list = []\n",
    "\n",
    "for p in range(1, 21):\n",
    "    url = 'https://lastsecond.ir/tours?hotel&list=&page={}'.format(p)\n",
    "    response = requests.get(url)\n",
    "    bs = BeautifulSoup(response.content, 'html.parser')\n",
    "    all_tours = bs.find('div' , class_= 'col-9 main-list')\n",
    "\n",
    "    destinations = all_tours.find_all('div' , attrs = {'class' : 'location'})\n",
    "    length = all_tours.find_all('div', attrs = {'class' : 'duration'})\n",
    "    start_date = all_tours.find_all('div' , attrs = {'class' : 'origin'})\n",
    "    minimum_price = all_tours.find_all('div' , attrs = {'class' : 'item-price'})\n",
    "\n",
    "    each_list_lenght = [\n",
    "        len(destinations),\n",
    "        len(length),\n",
    "        len(start_date),\n",
    "        len(minimum_price),\n",
    "        ]\n",
    "    if len(set(each_list_lenght)) ==1:\n",
    "        for i in range(0, each_list_lenght[0]):\n",
    "            destination_list.append(destinations[i].get_text())\n",
    "            length_list.append(length[i].get_text().split('\\n')[1].strip())\n",
    "            start_date_list.append(start_date[i].get_text().strip().split(' ')[2])\n",
    "            minimum_price_list.append(minimum_price[i].get_text().strip().split(' ')[0:2])\n",
    "    else:\n",
    "        print('Sorry ! Wehave some missing values')\n",
    "    print('Scraping page number {} is finished'.format(p))\n",
    "\n",
    "\n"
   ]
  },
  {
   "cell_type": "code",
   "execution_count": 121,
   "id": "7320a984-ec39-4bf4-a3a6-fbcb1ad2f296",
   "metadata": {},
   "outputs": [],
   "source": []
  },
  {
   "cell_type": "code",
   "execution_count": 131,
   "id": "7340d0b9-de0f-42d0-a2e2-77989217bc4d",
   "metadata": {},
   "outputs": [
    {
     "data": {
      "text/plain": [
       "[20, 20, 20, 20]"
      ]
     },
     "execution_count": 131,
     "metadata": {},
     "output_type": "execute_result"
    }
   ],
   "source": []
  },
  {
   "cell_type": "code",
   "execution_count": 123,
   "id": "5e248316-50bb-4cdd-bd68-18a7b2eafca1",
   "metadata": {},
   "outputs": [],
   "source": [
    "\n",
    "    \n",
    "    "
   ]
  },
  {
   "cell_type": "code",
   "execution_count": 124,
   "id": "f2dd9644-1dea-43d0-8632-7b9641297d94",
   "metadata": {},
   "outputs": [
    {
     "data": {
      "text/plain": [
       "[['4,250,000', 'تومان'],\n",
       " ['4,300,000', 'تومان'],\n",
       " ['4,600,000', 'تومان'],\n",
       " ['4,700,000', 'تومان'],\n",
       " ['4,700,000', 'تومان'],\n",
       " ['4,800,000', 'تومان'],\n",
       " ['4,800,000', 'تومان'],\n",
       " ['4,800,000', 'تومان'],\n",
       " ['4,800,000', 'تومان'],\n",
       " ['4,900,000', 'تومان'],\n",
       " ['5,000,000', 'تومان'],\n",
       " ['5,000,000', 'تومان'],\n",
       " ['5,140,000', 'تومان'],\n",
       " ['5,200,000', 'تومان'],\n",
       " ['5,200,000', 'تومان'],\n",
       " ['5,250,000', 'تومان'],\n",
       " ['5,300,000', 'تومان'],\n",
       " ['5,300,000', 'تومان'],\n",
       " ['5,300,000', 'تومان'],\n",
       " ['5,300,000', 'تومان']]"
      ]
     },
     "execution_count": 124,
     "metadata": {},
     "output_type": "execute_result"
    }
   ],
   "source": []
  },
  {
   "cell_type": "code",
   "execution_count": 132,
   "id": "bf948f1d-a21f-400b-ba40-f4a3f8cd9fb7",
   "metadata": {},
   "outputs": [],
   "source": [
    "df = pd.DataFrame(list(zip(destination_list,length_list,start_date_list,minimum_price_list)),\n",
    "                  columns = ['Destination', 'Length','Start_date','Min_price'])"
   ]
  },
  {
   "cell_type": "code",
   "execution_count": 133,
   "id": "60de8139-197b-4514-8ba6-964b475a0d66",
   "metadata": {},
   "outputs": [
    {
     "data": {
      "text/html": [
       "<div>\n",
       "<style scoped>\n",
       "    .dataframe tbody tr th:only-of-type {\n",
       "        vertical-align: middle;\n",
       "    }\n",
       "\n",
       "    .dataframe tbody tr th {\n",
       "        vertical-align: top;\n",
       "    }\n",
       "\n",
       "    .dataframe thead th {\n",
       "        text-align: right;\n",
       "    }\n",
       "</style>\n",
       "<table border=\"1\" class=\"dataframe\">\n",
       "  <thead>\n",
       "    <tr style=\"text-align: right;\">\n",
       "      <th></th>\n",
       "      <th>Destination</th>\n",
       "      <th>Length</th>\n",
       "      <th>Start_date</th>\n",
       "      <th>Min_price</th>\n",
       "    </tr>\n",
       "  </thead>\n",
       "  <tbody>\n",
       "    <tr>\n",
       "      <th>0</th>\n",
       "      <td>مشهد</td>\n",
       "      <td>2 شب</td>\n",
       "      <td>7/13</td>\n",
       "      <td>[2,700,000, تومان]</td>\n",
       "    </tr>\n",
       "    <tr>\n",
       "      <th>1</th>\n",
       "      <td>مشهد</td>\n",
       "      <td>2 شب</td>\n",
       "      <td>7/13</td>\n",
       "      <td>[2,950,000, تومان]</td>\n",
       "    </tr>\n",
       "    <tr>\n",
       "      <th>2</th>\n",
       "      <td>مشهد</td>\n",
       "      <td>2 شب</td>\n",
       "      <td>7/13</td>\n",
       "      <td>[3,000,000, تومان]</td>\n",
       "    </tr>\n",
       "    <tr>\n",
       "      <th>3</th>\n",
       "      <td>مشهد</td>\n",
       "      <td>2 شب</td>\n",
       "      <td>7/13</td>\n",
       "      <td>[3,000,000, تومان]</td>\n",
       "    </tr>\n",
       "    <tr>\n",
       "      <th>4</th>\n",
       "      <td>مشهد</td>\n",
       "      <td>2 شب</td>\n",
       "      <td>7/13</td>\n",
       "      <td>[3,350,000, تومان]</td>\n",
       "    </tr>\n",
       "    <tr>\n",
       "      <th>...</th>\n",
       "      <td>...</td>\n",
       "      <td>...</td>\n",
       "      <td>...</td>\n",
       "      <td>...</td>\n",
       "    </tr>\n",
       "    <tr>\n",
       "      <th>355</th>\n",
       "      <td>وان</td>\n",
       "      <td>3 شب</td>\n",
       "      <td>7/14</td>\n",
       "      <td>[5,620,000, تومان]</td>\n",
       "    </tr>\n",
       "    <tr>\n",
       "      <th>356</th>\n",
       "      <td>وان</td>\n",
       "      <td>3 شب</td>\n",
       "      <td>7/14</td>\n",
       "      <td>[5,620,000, تومان]</td>\n",
       "    </tr>\n",
       "    <tr>\n",
       "      <th>357</th>\n",
       "      <td>کیش</td>\n",
       "      <td>3 شب</td>\n",
       "      <td>7/14</td>\n",
       "      <td>[5,695,000, تومان]</td>\n",
       "    </tr>\n",
       "    <tr>\n",
       "      <th>358</th>\n",
       "      <td>قشم</td>\n",
       "      <td>3 شب</td>\n",
       "      <td>7/14</td>\n",
       "      <td>[5,700,000, تومان]</td>\n",
       "    </tr>\n",
       "    <tr>\n",
       "      <th>359</th>\n",
       "      <td>کیش</td>\n",
       "      <td>4 شب</td>\n",
       "      <td>7/14</td>\n",
       "      <td>[5,740,000, تومان]</td>\n",
       "    </tr>\n",
       "  </tbody>\n",
       "</table>\n",
       "<p>360 rows × 4 columns</p>\n",
       "</div>"
      ],
      "text/plain": [
       "    Destination Length Start_date           Min_price\n",
       "0          مشهد   2 شب       7/13  [2,700,000, تومان]\n",
       "1          مشهد   2 شب       7/13  [2,950,000, تومان]\n",
       "2          مشهد   2 شب       7/13  [3,000,000, تومان]\n",
       "3          مشهد   2 شب       7/13  [3,000,000, تومان]\n",
       "4          مشهد   2 شب       7/13  [3,350,000, تومان]\n",
       "..          ...    ...        ...                 ...\n",
       "355         وان   3 شب       7/14  [5,620,000, تومان]\n",
       "356         وان   3 شب       7/14  [5,620,000, تومان]\n",
       "357         کیش   3 شب       7/14  [5,695,000, تومان]\n",
       "358         قشم   3 شب       7/14  [5,700,000, تومان]\n",
       "359         کیش   4 شب       7/14  [5,740,000, تومان]\n",
       "\n",
       "[360 rows x 4 columns]"
      ]
     },
     "execution_count": 133,
     "metadata": {},
     "output_type": "execute_result"
    }
   ],
   "source": [
    "df"
   ]
  },
  {
   "cell_type": "code",
   "execution_count": null,
   "id": "184903df-6fdf-4af4-aa7a-5e4326e4f9ed",
   "metadata": {},
   "outputs": [],
   "source": []
  }
 ],
 "metadata": {
  "kernelspec": {
   "display_name": "Python 3 (ipykernel)",
   "language": "python",
   "name": "python3"
  },
  "language_info": {
   "codemirror_mode": {
    "name": "ipython",
    "version": 3
   },
   "file_extension": ".py",
   "mimetype": "text/x-python",
   "name": "python",
   "nbconvert_exporter": "python",
   "pygments_lexer": "ipython3",
   "version": "3.9.6"
  }
 },
 "nbformat": 4,
 "nbformat_minor": 5
}
